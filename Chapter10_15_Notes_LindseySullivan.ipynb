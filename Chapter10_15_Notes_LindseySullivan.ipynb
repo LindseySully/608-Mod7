{
 "cells": [
  {
   "cell_type": "markdown",
   "metadata": {},
   "source": [
    "# Chapter 10 - Object Oriented Programming\n",
    "Notebook by: Lindsey Sullivan\n",
    "\n",
    "- [Introduction](#Introduction)\n",
    "- [Custom Class Account](#Custom-Class-Account)\n",
    "- [Controlling Access to Attributes](#Controlling-Access-to-Attributes) \n",
    "- [Properties for Data Access](#Properties-for-Data-Access)\n",
    "- [Simulating \"Private\" Attributes](#Simulating-\"Private\"-Attributes)\n",
    "- [Inheritance: Base Classes and Subclasses](#Inheritance:-Base-Classes-and-Subclasses)\n",
    "- [Building an Inheritance Hierarchy: Introducing Polymorphism](#Building-an-Inheritance-Hierarchy:-Introducing-Polymorphism)\n",
    "- [Duck Typing and Polymorphism](#duck-typing-and-polymorphism)\n",
    "- [Operator Overloading](#Operator-Overloading)\n",
    "- [Exception Class Hierarchy and Custom Exceptions](#Exception-Class-Hierarchy-and-Custom-Exceptions)\n",
    "- [A Brief Intro to Python 3.7s New Data Classes](#a-brief-intro-to-python-37s-new-data-classes)\n",
    "- [Unit Testing with Docstrings and doctest](#unit-testing-with-docstrings-and-doctest)\n",
    "- [Namespaces and Scopes](#namespaces-and-scopes)\n",
    "\n",
    "\n"
   ]
  },
  {
   "cell_type": "markdown",
   "metadata": {},
   "source": [
    "## Introduction"
   ]
  },
  {
   "cell_type": "markdown",
   "metadata": {},
   "source": [
    "### Class Libraries and Object-Based Programming\n",
    "- **Object-Based Programming** : primarily create and use objects of existing classes. For example: int, float, str, list, tuple\n",
    "\n",
    "### Inheritance\n",
    "- Concept that new classes can be formed through inheritance and composition from classes in abundant class libraries. Eventually, software will be constructed predominantly from **standardized, reusable components** just as hardware is constructed predominantly from interchangeable parts today. \n",
    "- When creatina  new class, instead of writing all new code, you can designate that the new class is to be formed initally by **inheriting** the attributes (variables) and methods (the class version of functions) of previously defined **base class** (also called a **superclass**).\n",
    "- The new class is called a **derived class** (or **subclass**).\n",
    "\n",
    "### Polymorphism\n",
    "- **Polymorphism** which enables you to conveniently program \"in the general\" rather than \"in the specific\". Yous imply send the *same* method call to objects possibly of many *different* types. Each object responds by \"doing the right thing.\" "
   ]
  },
  {
   "cell_type": "markdown",
   "metadata": {},
   "source": [
    "## Custom Class Account"
   ]
  },
  {
   "cell_type": "markdown",
   "metadata": {},
   "source": [
    "- Each class you create becomes a new *data type* that can be used to create objects. This is one reason why Python is said to be an **extensible language**.\n",
    "- To use the new Account class, launch your IPython session from the ch10 examples folder, then import class Account:"
   ]
  },
  {
   "cell_type": "code",
   "execution_count": 1,
   "metadata": {},
   "outputs": [
    {
     "ename": "ModuleNotFoundError",
     "evalue": "No module named 'account'",
     "output_type": "error",
     "traceback": [
      "\u001b[0;31m---------------------------------------------------------------------------\u001b[0m",
      "\u001b[0;31mModuleNotFoundError\u001b[0m                       Traceback (most recent call last)",
      "\u001b[1;32m/Users/lindseysullivan/Desktop/44-608/608-Mod7/Chapter10_15_Notes_LindseySullivan.ipynb Cell 6\u001b[0m in \u001b[0;36m<cell line: 1>\u001b[0;34m()\u001b[0m\n\u001b[0;32m----> <a href='vscode-notebook-cell:/Users/lindseysullivan/Desktop/44-608/608-Mod7/Chapter10_15_Notes_LindseySullivan.ipynb#W5sZmlsZQ%3D%3D?line=0'>1</a>\u001b[0m \u001b[39mfrom\u001b[39;00m \u001b[39maccount\u001b[39;00m \u001b[39mimport\u001b[39;00m Account\n\u001b[1;32m      <a href='vscode-notebook-cell:/Users/lindseysullivan/Desktop/44-608/608-Mod7/Chapter10_15_Notes_LindseySullivan.ipynb#W5sZmlsZQ%3D%3D?line=2'>3</a>\u001b[0m \u001b[39mfrom\u001b[39;00m \u001b[39mdecimal\u001b[39;00m \u001b[39mimport\u001b[39;00m Decimal \u001b[39m#Class Account maintains and manipulates the account balance as a decimal, so we also import class Decimal\u001b[39;00m\n\u001b[1;32m      <a href='vscode-notebook-cell:/Users/lindseysullivan/Desktop/44-608/608-Mod7/Chapter10_15_Notes_LindseySullivan.ipynb#W5sZmlsZQ%3D%3D?line=4'>5</a>\u001b[0m value \u001b[39m=\u001b[39m Decimal(\u001b[39m'\u001b[39m\u001b[39m12.34\u001b[39m\u001b[39m'\u001b[39m) \u001b[39m#To create a Decimal object\u001b[39;00m\n",
      "\u001b[0;31mModuleNotFoundError\u001b[0m: No module named 'account'"
     ]
    }
   ],
   "source": [
    "from account import Account\n",
    "\n",
    "from decimal import Decimal #Class Account maintains and manipulates the account balance as a decimal, so we also import class Decimal\n",
    "\n",
    "value = Decimal('12.34') #To create a Decimal object\n",
    "\n",
    "#This is known as a constructor expression because it builds and initalizes an object of the class\n",
    "# ------------\n",
    "\n",
    "account1 = Account('John Green', Decimal('50.00')) \n",
    "#uses a constructor expression to create an Account object and initialize it with an account holder's name (a String) and balance (a Decimal)\n",
    "# -------------\n",
    "# Calling on the Account object's name and balance attributes\n",
    "account1.name\n"
   ]
  },
  {
   "cell_type": "code",
   "execution_count": null,
   "metadata": {},
   "outputs": [
    {
     "data": {
      "text/plain": [
       "Decimal('50.00')"
      ]
     },
     "execution_count": 7,
     "metadata": {},
     "output_type": "execute_result"
    }
   ],
   "source": [
    "account1.balance"
   ]
  },
  {
   "cell_type": "code",
   "execution_count": null,
   "metadata": {},
   "outputs": [
    {
     "data": {
      "text/plain": [
       "Decimal('75.53')"
      ]
     },
     "execution_count": 8,
     "metadata": {},
     "output_type": "execute_result"
    }
   ],
   "source": [
    "account1.deposit(Decimal('25.53'))\n",
    "account1.balance"
   ]
  },
  {
   "cell_type": "markdown",
   "metadata": {},
   "source": [
    "#### Self Check\n",
    "1. Each new class you create becomes a new data type that can be used to create objects. This is one reason why Python is said to be a(n) _*extensible*_ language.\n",
    "2. A _*constructor*_ expression creates and initalizes an object of a class. \n",
    "\n",
    "### Account Class Definition\n",
    "- A class definition begins with the keyword **class** followed by the class's name and a colon(:). This line is called the **class header**. "
   ]
  },
  {
   "cell_type": "code",
   "execution_count": null,
   "metadata": {},
   "outputs": [],
   "source": [
    "# account.py\n",
    "#\"\"\"Account class definition.\"\"\"\n",
    "#from decimal import Decimal\n",
    "\n",
    "#class Account:\n",
    "\n",
    "#def __init__(self, name, balance):\n",
    "       # \"\"\"Initialize an Account object.\"\"\"\n",
    "\n",
    "        # if balance is less than 0.00, raise an exception\n",
    "        #if balance < Decimal('0.00'):\n",
    "         #   raise ValueError('Initial balance must be >= to 0.00.')\n",
    "\n",
    "        #self.name = name\n",
    "        #self.balance = balance\n",
    "\n",
    "\n"
   ]
  },
  {
   "cell_type": "markdown",
   "metadata": {},
   "source": [
    "- The constructor expression creates a new object, then initializes its data by calling the class's **_init_** method. \n",
    "- Python classes may define many **special methods**, like _init_ each identified by leading and trailing double-underscores in the method name. Python class **object**, which we'll discuss later in this chapter, defines the special methods that are avaialble for *all* Python objects.\n",
    "\n",
    "### Composition: Object References as Members of Classes\n",
    "- Embedding references to objects of other types is a form of software reusability known as **composition** and it is sometimes referred to as the **\"has a\" relationship**. \n",
    "\n",
    "#### Self Check\n",
    "1. A class's _*_init_*_ method is called by a constructor expression to initalize a new object of the class. \n",
    "2. True/False - A class's _init_ method returns an object of the class.\n",
    "    - **False**: A class's _init_ method initalizes an object of the class and implicity returns None.\n",
    "3. Add a withdraw method to class Account. "
   ]
  },
  {
   "cell_type": "code",
   "execution_count": null,
   "metadata": {},
   "outputs": [],
   "source": [
    "def withdraw(self, amount):\n",
    "    # if amount is great than balance, raise an exception\n",
    "    if amount > self.balance:\n",
    "        raise ValueError('amount must be <= to balance.')\n",
    "    elif amount < Decimal('0.00'):\n",
    "        raise ValueError('amount must be positive')\n",
    "    \n",
    "    self.balance -= amount"
   ]
  },
  {
   "cell_type": "markdown",
   "metadata": {},
   "source": [
    "## Controlling Access to Attributes\n",
    "- A class's **client code** is any code that uses objects of the class. Most object-oriented programming languages enable you to **encapsulate** (or *hide*) an object's data from the client code.\n",
    "\n",
    "#### Self Check\n",
    "1. True/False - Like most object-oriented programming languages, Python provides capabilities for encapsulating an object's data attributes so client code cannot access the data directly.\n",
    "    - **False** In Python, all data attributes are accessible. you use attributes naming conventions to indicate that attributes shoudl not be accessed directly from client code. "
   ]
  },
  {
   "cell_type": "markdown",
   "metadata": {},
   "source": [
    "## Properties for Data Access"
   ]
  },
  {
   "cell_type": "markdown",
   "metadata": {},
   "source": [
    "Creating a Time class that stores the time in 24-hour clock format with hours in the range 0-23, and minutes and seconds each in the range 0-59."
   ]
  },
  {
   "cell_type": "code",
   "execution_count": null,
   "metadata": {},
   "outputs": [
    {
     "data": {
      "text/plain": [
       "Time(hour=6, minute=30, second=0)"
      ]
     },
     "execution_count": 9,
     "metadata": {},
     "output_type": "execute_result"
    }
   ],
   "source": [
    "#Create a Time Object\n",
    "from timewithproperties import Time\n",
    "wake_up = Time(hour=6,minute=30)\n",
    "\n",
    "wake_up"
   ]
  },
  {
   "cell_type": "code",
   "execution_count": null,
   "metadata": {},
   "outputs": [
    {
     "data": {
      "text/plain": [
       "Time(hour=7, minute=45, second=0)"
      ]
     },
     "execution_count": 10,
     "metadata": {},
     "output_type": "execute_result"
    }
   ],
   "source": [
    "wake_up.hour #retreives an attribute via a property\n",
    "\n",
    "#class time provides hour,minute and second properties, which provide the convience of data attributes for getting and modifying an object's data.\n",
    "\n",
    "#Setting the time, you can set up a new time with the object's set_time method.\n",
    "wake_up.set_time(hour=7, minute=45)\n",
    "wake_up"
   ]
  },
  {
   "cell_type": "markdown",
   "metadata": {},
   "source": [
    "#### Self Checks\n",
    "1. The print function implicitly involves special method _str_.\n",
    "2. IPython calls an object's special method _repr_ to produce a string representation of the object. \n",
    "3. True/False - Properties are used like methods.\n",
    "    - **False** Properties are used like data attributes, but are implemented as methods. \n",
    "\n",
    "### Class Time Definition\n",
    "- Class Time's _init_ method specifies hour,minute, and second parameters, each with a default argument of 0. "
   ]
  },
  {
   "cell_type": "code",
   "execution_count": null,
   "metadata": {},
   "outputs": [],
   "source": [
    "@property\n",
    "def hour(self):\n",
    "    \"\"\"Returns the hour.\"\"\"\n",
    "    return self._hour\n",
    "# Above defines a publicly accessible read-write property named hour that manipulates a data attribute named _hour."
   ]
  },
  {
   "cell_type": "markdown",
   "metadata": {},
   "source": [
    "- The **@property decorator** preceds the property's getter method, which receives only a self parameter. This *getter* method returns the _hour data attribute's value. The following client-code expression invokes the *getter* method:\n",
    "    - wake_up.hour\n",
    "- A decorator of the form **@property_name.setter** precedes the property's *setter* method. \n",
    "- A **read-write property** has both a *getter* and *setter*. \n",
    "- A **read-only property** has only a *getter* \n",
    "\n",
    "- Class Time: Special Method _repr_\n",
    "    - When you pass an object to built-in function repr - which happens implicitly when you evaluate a variable in an IPython session - the corresponding class's _repr_ special method is called to get a string representation of the object:"
   ]
  },
  {
   "cell_type": "code",
   "execution_count": null,
   "metadata": {},
   "outputs": [],
   "source": [
    "def __repr__ (self):\n",
    "    \"\"\"Return Time string for repr().\"\"\"\n",
    "    return (f'Time(hour={self.hour}, minute={self.minute}, second={self.second})')"
   ]
  },
  {
   "cell_type": "markdown",
   "metadata": {},
   "source": [
    "- Class time: Special Method _str_\n",
    "    - For class Time we also define the _str_ special method. This method is called implicitly when you convert an object to a string with the built-in function str, such as wehn you pritn an object or call str explicitly. "
   ]
  },
  {
   "cell_type": "code",
   "execution_count": null,
   "metadata": {},
   "outputs": [],
   "source": [
    "def __str__ (self):\n",
    "    \"\"\"Print Time in 12-hour clock format.\"\"\"\n",
    "    return (('12' if self.hour in (0,12) else str(self.hour % 12)) + f' :{self.minute:0>2}:{self.second:0>2}' + ('AM' if self.hour < 12 else 'PM'))\n"
   ]
  },
  {
   "cell_type": "markdown",
   "metadata": {},
   "source": [
    "#### Self Check\n",
    "1. The print function implicitly invokes special method _str_.\n",
    "2. A _*read-write*_ property has both a getter and setter. If only a getter is provided the property is a _*read-only*_ property, meaning that you only can get the property's value. \n",
    "3. Add to class Time with a read-write property time in which the getter returns a tuple containing the values of the hour, minute and second properties,  and the setter receives a tuple containing hour, minute and second values and uses them to set the time. "
   ]
  },
  {
   "cell_type": "code",
   "execution_count": null,
   "metadata": {},
   "outputs": [],
   "source": [
    "@property\n",
    "def time(self):\n",
    "    \"\"\"Return hour, minute and second as a tuple\"\"\"\n",
    "    return (self.hour, self.minute, self.second)\n",
    "@time.setter\n",
    "def time(self, time_tuple):\n",
    "    \"\"\"Set time from a tuple containing hour, minute and second\"\"\"\n",
    "    self.set_time(time_tuple[0], time_tuple[1], time_tuple[2])"
   ]
  },
  {
   "cell_type": "markdown",
   "metadata": {},
   "source": [
    "### Class Time Definition Design Notes\n",
    "- Interface of a Class\n",
    "    - Class Time's properties and methods define the class's **public interface** - that is, the set of properties and methods programmers should use to interact with objects of the class.\n",
    "- Properties\n",
    "    - Subtle properties with both *setters* and *getters* has no benefit over accessing the data attributes directkly, but there are subtle differences. A *getter* seems to allow clients to read the data at will, but the *getter* can control the formatting of the data.\n",
    "- Utility Methods\n",
    "    - Not all methods need ot serve as part of a class's interface. Some serve as **utility methods** used only inside the class and are not indendd to be part of the class's public interface used by client code.\n",
    "\n",
    "#### Self Check\n",
    "1. A class's _*interface*_ is the set of public properties and methods programmers shoudl use to interact with objects of the class.\n",
    "2. A class's _*utility*_ methods are used only inside the class and are not intended to be used by client code. "
   ]
  },
  {
   "cell_type": "markdown",
   "metadata": {},
   "source": [
    "## Simulating \"Private\" Attributes\n",
    "In programming languages such as C++, Java, and C#, classes state explicitly which class members are *publically accessible*. Class members amy not be accessed out a class definition are **private** and visable only within the class that defines them. Python programmers often use \"private\" attributes for data or utility methods that are essential to a class's inner workings but are not part of the class's public interface.\n",
    "\n",
    "- To prevent access to class's clients, you can use 2 (_)'s which prevents client from accessing \"private\" attributes. Python *renames* them by preceding the attribute name with _ClassName. \n",
    "    - This is called **name mangling** - if you try to assign __hour then Python raises an AttributeError, indicating that the class does not have an __hour attribute."
   ]
  },
  {
   "cell_type": "code",
   "execution_count": null,
   "metadata": {},
   "outputs": [],
   "source": [
    "class PrivateClass:\n",
    "    \"\"\"Class with public and private attributes.\"\"\"\n",
    "\n",
    "    def __init__(self):\n",
    "        \"\"\"Initialize the public and private attributes\"\"\"\n",
    "        self.public_data = \"public\" # public attribute\n",
    "        self.__private_data = \"private\" #private attribute"
   ]
  },
  {
   "cell_type": "markdown",
   "metadata": {},
   "source": [
    "#### Self Check\n",
    "1. Python mangles attribute names that begin with _*two*_ underscore(s).\n",
    "2. True/False - An attribute that begins with a single underscore is a private attribute.\n",
    "    - **False** An attribute that begins with a single underscore simply conveys the convention that a client of the class should not access the attribute directly, but it *does* allow access. Nothing in Python makes it possible to enforce data hiding - it is all based upon convention."
   ]
  },
  {
   "cell_type": "markdown",
   "metadata": {},
   "source": [
    "## Inheritance: Base Classes and Subclasses"
   ]
  },
  {
   "cell_type": "markdown",
   "metadata": {},
   "source": [
    "Often, an object of one class is an object of another class as well. Inheritance relationships form tree-like *herarchical* structures. A base class exists in a hierarchical relationship with its subclasses. \n",
    "**Inheritance hierarchy**\n",
    "- Can contain many other classes - a **single inheritance** class is derived from *one* base class, with **multiple inheritance**, a subclass inherits from *two or more base classes*. \n",
    "- Inheritance produces a **\"is-a\" relationships** in which an object of a subclass type may also be treated as an object of the base-class type.\n",
    "\n",
    "#### Self Check\n",
    "1. A base class exists in a _*hierarchical*_ relationship with its subclasses.\n",
    "2. In this section's shape class hierarchy, TwoDimensionalShape is a _*subclass*_ of Shape an a _*base class*_ of Circle, Square and Triangle."
   ]
  },
  {
   "cell_type": "markdown",
   "metadata": {},
   "source": [
    "## Building an Inheritance Hierarchy: Introducing Polymorphism"
   ]
  },
  {
   "cell_type": "markdown",
   "metadata": {},
   "source": [
    "You use an inheritance to create new classes from existing ones. In fact, every Python class inherits from an existing class. When you do not explictly specify the base class for a new class. python assumes that the class inherits directly from class object.\n",
    "\n",
    "#### Self Check\n",
    "1. When a base-class method implementation is inappropriate for a derived class, that method can be _*overridden*_ (i.e.,redefined) in the derived class with an appropriate implementation. \n",
    "2. In this section's IPython session, explain in detail what:\n",
    "    - c.gross_sales = Decimal('20000.00')\n",
    "        - This statement creates a Decimal object and assigns it to a CommissionEmployee's gross_sales property, invoking the property's setter. The setter checks whether the new value is less than Decimal ('0.00'). If so the setter raises a ValueError, indicating that the value must be greater than or equal to 0; otherwise, the setter assigns the new value to the ComissionEmployee's _gross_sales attribute.\n",
    "\n",
    "Python provides two built-in functions - **issubclass** and **isinstance** - for testing \"is a\" relationships. \n",
    "\n",
    "#### Self Check\n",
    "1. Function _*isinstance*_ determines whether an object has an \"is a\" relationship with a specific type.\n",
    "2. Function _*issubclass*_ determines whether one \n",
    "3. _*Polymorphism*_ enables us to take advantage of the \"subclass-object-is-a-base-class-object\" relationship to process objects in a general way."
   ]
  },
  {
   "cell_type": "markdown",
   "metadata": {},
   "source": [
    "## Duck Typing and Polymorphism"
   ]
  },
  {
   "cell_type": "markdown",
   "metadata": {},
   "source": [
    "Most other object-oriented programming languages require inheritance-based \"is-a\" relationships to achieve polymorphic behavior. Python is more flexiable. it uses a concept called **duck typing**, which the Python documentation describes as:\n",
    "    - A programming style which does not look at an object's type to determine if it has the right interface; instead, the method or attribute is simply called or used."
   ]
  },
  {
   "cell_type": "code",
   "execution_count": null,
   "metadata": {},
   "outputs": [],
   "source": [
    "for employee in employees:\n",
    "    print(employee)\n",
    "    print(f'{employee.earnings():,.2f}\\n')"
   ]
  },
  {
   "cell_type": "markdown",
   "metadata": {},
   "source": [
    "In Python, this loop works properly as long as employees contains only objects that:\n",
    "- can be displayed with print\n",
    "- have an earnings method which can be called with no arguments\n",
    "All classes inherit from object directly or indirectly, so they all inherit the default methods for obtaining string representations that print can display. If a class has an earnings method that can be called with no arguments, we can include objects of that class in list employees, even if the object's class does not have an \"is a\" relationship with class ComissionEmployee. "
   ]
  },
  {
   "cell_type": "code",
   "execution_count": null,
   "metadata": {},
   "outputs": [],
   "source": [
    "class WellPaidDuck:\n",
    "    def __repr__ (self):\n",
    "        return 'I am a well-paid duck'\n",
    "    def earnings(self):\n",
    "        return Decimal('1_000_000.00')"
   ]
  },
  {
   "cell_type": "markdown",
   "metadata": {},
   "source": [
    "WellPaidDuck objects, which clearly are not meant to be employees, will work with the preceding loop."
   ]
  },
  {
   "cell_type": "code",
   "execution_count": null,
   "metadata": {},
   "outputs": [],
   "source": [
    "from decimal import Decimal\n",
    "from commissionemployee import CommissionEmployee\n",
    "from salariedcommissionemployee import SalariedCommissionEmployee\n",
    "\n",
    "c = CommissionEmployee('Sue','Jones','333-33-3333', Decimal('5000.00'), Decimal('0.04'), Decimal('300.00'))\n",
    "d = WellPaidDuck()\n",
    "employee = [c,s,d]"
   ]
  },
  {
   "cell_type": "markdown",
   "metadata": {},
   "source": [
    "## Operator Overloading"
   ]
  },
  {
   "cell_type": "markdown",
   "metadata": {},
   "source": [
    "Restrictions of Operator Overloading:\n",
    "- The precedence of an operator cannot be changed by overloading. However, parentheses can be used to force evaluation order in an expression. \n",
    "- The left-to-right or right-to-left grouping of an operator cannot be changed by overloading. \n",
    "- The \"arity\" of an operator - that is, whether it's a unary or binary operator -- cannot be changed.\n",
    "- You cannot create new operators -- only existing operators can be overlaoded.\n",
    "- The meaning of how an operator works on objects of built-in types cannot be changed. you cannot, for example change + so that it subtracts two integers.\n",
    "- Operator overloading works only with objects of custom classes or with a mixture of an object of a custom class and an object of a built-in type. "
   ]
  },
  {
   "cell_type": "code",
   "execution_count": null,
   "metadata": {},
   "outputs": [],
   "source": [
    "\"\"\"Complex class with overloaded operators.\"\"\"\n",
    "class Complex:\n",
    "    \"\"\"Complex class that represents a complex number with real and imaginary parts\"\"\"\n",
    "    def __init__(self, real, imaginary):\n",
    "        \"\"\"Initalize Complex class's attributes.\"\"\"\n",
    "        self.real = real\n",
    "        self.imaginary = imaginary\n",
    "    def __add__(self,right):\n",
    "        \"\"\"Overrides the + operator\"\"\"\n",
    "        return Complex(self.real + right.real, self.imaginary + right.imaginary)\n",
    "    def __iadd__(self,right):\n",
    "        \"\"\"Overrides the += operator.\"\"\"\n",
    "        self.real += right.real\n",
    "        self.imaginary += right.imaginary\n",
    "        return self\n",
    "    def __repr__(self)\n",
    "        \"\"\"Return string representation for repr().\"\"\"\n",
    "        return (f'({self.real}' + ('+' if self.imaginary >= 0 else '-') + f'{abs(self.imaginary)}i)')    \n",
    "\n",
    "x = Complex(real=2, imaginary=4)\n",
    "y = Complex(real=5, imaginary=-1)\n",
    "\n",
    "#using + we add the complext numbers\n",
    "\n",
    "x + y # the + operator does not modify either of its operands\n",
    "\n",
    "x += y #used to add y to x and store the result in x. The += operator modifies its left operand but not its right operand."
   ]
  },
  {
   "cell_type": "markdown",
   "metadata": {},
   "source": [
    "#### Self Check\n",
    "1. Suppose a and b are integer variables and a program calculates a + b. Now supppose c and d are string variables and a program performs the concatentation c + d. The two + operators here are clearly being used for different purposes. This is an example of _*operator overloading*_. \n",
    "2. True/False - Python allows you to create new operators to overload and to change how existing operators work for built-in types. \n",
    "    - **False** Python prohibits you from creating new operators, and operator overloading cannot change how an operator works with built-in types. \n",
    "3. Modify class Complet to support operators - and -=."
   ]
  },
  {
   "cell_type": "code",
   "execution_count": null,
   "metadata": {},
   "outputs": [],
   "source": [
    "def __sub__ (self,right):\n",
    "    return Complex(self.real - right.real, self.imaginary - right.imaginary)\n",
    "def __isub__(self,right):\n",
    "    self.real -= right.real\n",
    "    self.imaginary -= right.imaginary\n",
    "    return self"
   ]
  },
  {
   "cell_type": "markdown",
   "metadata": {},
   "source": [
    "## Exception Class Hierarchy and Custom Exceptions"
   ]
  },
  {
   "cell_type": "markdown",
   "metadata": {},
   "source": [
    "Exception classes inherit directly or indirectly from base class Base-Exception and are defined in module **exceptions**. Python defines four primary BaseException subclasses-- **SystemExit, KeyboardInterrupt, GeneratorExit, Exception**.\n",
    "- SystemExit terminates program execution and when uncaught does not produce a traceback like other exception types.\n",
    "- KeyboardInterrupt exceptions occur when the user types the interrupt command - Ctrl + C\n",
    "- GeneratorExit exceptions occur when a generator closes - normally when a generator finishes producing values or when its close mehtod is called explicitly. \n",
    "- Exception is the base class for most common exceptions you'll encounter. \n",
    "\n",
    "#### Self Check\n",
    "1. Most exceptions you'll encounter inherit from base class _*exception*_ and are defined in module _*exceptions*_.\n",
    "2. True/False - When you raise an exception from your code, you should generally use a new exception class. \n",
    "    - **False** When you raise an exception from your code, you should generally use one of the existing exception classes from the Python Standard Libary. "
   ]
  },
  {
   "cell_type": "markdown",
   "metadata": {},
   "source": [
    "## Named Tuples\n",
    "\n",
    "The Python Standard Libary's **collection module** also provides **named tuples** that enable you to reference a tuple's members by name rather than by index number. Function **namedtuple** creates a subclass of the built-in tuple type. The function's first argument is your new type's name and the second is a list of strings representing the identifiers you'll use to reference the new type's members. "
   ]
  },
  {
   "cell_type": "code",
   "execution_count": null,
   "metadata": {},
   "outputs": [
    {
     "data": {
      "text/plain": [
       "Card(face='Ace', suit='Spades')"
      ]
     },
     "execution_count": 14,
     "metadata": {},
     "output_type": "execute_result"
    }
   ],
   "source": [
    "from collections import namedtuple\n",
    "\n",
    "Card = namedtuple('Card',['face','suit'])\n",
    "\n",
    "card = Card(face='Ace', suit = 'Spades')\n",
    "\n",
    "card"
   ]
  },
  {
   "cell_type": "markdown",
   "metadata": {},
   "source": [
    "Each named tuple type has addiitonal methods. The type's **_make class method** receives an iterable of values and returns an object of the named tuple type:"
   ]
  },
  {
   "cell_type": "code",
   "execution_count": null,
   "metadata": {},
   "outputs": [
    {
     "data": {
      "text/plain": [
       "Card(face='Queen', suit='Hearts')"
      ]
     },
     "execution_count": 15,
     "metadata": {},
     "output_type": "execute_result"
    }
   ],
   "source": [
    "values = ['Queen','Hearts']\n",
    "\n",
    "card = Card._make(values)\n",
    "\n",
    "card"
   ]
  },
  {
   "cell_type": "markdown",
   "metadata": {},
   "source": [
    "For a given object of a named tuple type, you can get an **OrderedDict** dictionary representation of the object's member names and values. An OrderedDict remembers the order in which its key-value pairs were inserted in teh dicitonary."
   ]
  },
  {
   "cell_type": "code",
   "execution_count": null,
   "metadata": {},
   "outputs": [
    {
     "data": {
      "text/plain": [
       "{'face': 'Queen', 'suit': 'Hearts'}"
      ]
     },
     "execution_count": 16,
     "metadata": {},
     "output_type": "execute_result"
    }
   ],
   "source": [
    "card._asdict()"
   ]
  },
  {
   "cell_type": "markdown",
   "metadata": {},
   "source": [
    "#### Self Check\n",
    "1. The Python Standard Libary's collections module's _*namedtuple*_ function creates a custom tuple type that enables you to reference the tuple's members by name rather than by index number.\n",
    "2. Create a namedtuple called time with members naem hour,minute, and second. Then create a Time object, access its members and display its string representation."
   ]
  },
  {
   "cell_type": "code",
   "execution_count": null,
   "metadata": {},
   "outputs": [
    {
     "name": "stdout",
     "output_type": "stream",
     "text": [
      "13 30 45\n"
     ]
    }
   ],
   "source": [
    "from collections import namedtuple\n",
    "\n",
    "Time = namedtuple('Time', ['hour','minute','second'])\n",
    "\n",
    "t = Time(13,30,45)\n",
    "\n",
    "print(t.hour,t.minute,t.second)"
   ]
  },
  {
   "cell_type": "markdown",
   "metadata": {},
   "source": [
    "## A Brief Intro to Python 3.7's New Data Classes\n",
    "Data classes are among Python's 3.7 most important new feature. They help you build classes faster by using more concise notation and by autogenerating \"boilderplate\" code that's common in most classes. \n",
    "\n",
    "- Data classes autogenerate the data attributes and the __int_ and __repr_ methods for you. They also auto generate the __eq_, which overlaods the == operator. Any class that has an _eq_ method also implicitly supports !=. All classes inherit class object's default __ne_ (not equals) method implementation, which returns the opposite of __eq_.\n",
    "- Data classes do not automatically generate methods for the <,<=, > and >= comparison operators, but they can. \n",
    "\n",
    "Using the **@dataclass decorator** will specify that a new class is a data class and causes various code to be written for you. \n",
    "- ClassVar[List[str]]\n",
    "    - is a **variable annotation** sometimes called a *type hint* is a class attribute which refers to a list of strings. "
   ]
  },
  {
   "cell_type": "code",
   "execution_count": null,
   "metadata": {},
   "outputs": [],
   "source": [
    "from dataclasses import dataclass\n",
    "from typing import ClassVar, List\n",
    "\n",
    "@dataclass\n",
    "class Card:"
   ]
  },
  {
   "cell_type": "markdown",
   "metadata": {},
   "source": [
    "#### Self Check\n",
    "1. Data classes require _*variable annotations*_ that specify each class attribute's or data attribute's data type.\n",
    "2. The _*@dataclass*_ decorator specifies that a new class is a data class. \n",
    "3. True/False - The Python Standard Libary's annotations module defines the variable annotations that are required in data class definitions. \n",
    "    - **False** the typing module defines the variable annotations that are required in data-class definitions. \n",
    "4. True/False - Data classes have auto-generated <,<=, > and >= operators, by default. \n",
    "    - **False** The == and != operators are autogenerated by default. The other operators are autogenerated only if the dataclass decorator specifies the keyword argument order=True.    "
   ]
  },
  {
   "cell_type": "markdown",
   "metadata": {},
   "source": [
    "## Unit Testing with Docstrings and doctest"
   ]
  },
  {
   "cell_type": "markdown",
   "metadata": {},
   "source": [
    "The Python Standard Library provides the **docset module** to help you test your code and conveniently retest it after you make modifications. When you execute the doctest module **testmod function** it inspects your functions', methods', and classes' docstrings looking for sample Python statements preceded by >>>, each followed on the next line by the given statement's expected output. \n",
    "\n",
    "- The testmod reports errors indicating which tests failed so you can locate and fix the problems in your code. Each test you define in a docstring typically tests a specific *unit of code* such as a function, a method or a class. Such tests are called **unit tests**. \n",
    "\n",
    "- A conveient way to create doctests for existing code is to use an IPython interactive session to test your code, then copy and paste that session into a docstring. IPython's In[] and Out[] are not compatible with doctest, so Ipython provides the magic **%doctest_mode** to display prompts in teh correct doctest format. \n",
    "\n",
    "#### Self Check\n",
    "1. When you execute a Python source file as a script. Python creates a global attribute [__name__] and assigns it the string _[__main__]_. \n",
    "2. True/False - When you execute the doctest module's testmod function, it inspects your code and automatically createstests for you. \n",
    "    - **False** - When you execute the doctest module's testmod function, it inspects your code's function, mehtod and class docstrings looking for sample Python statements your code's function method and class docstring looking for sample Python statements preceded by >>>, each followed on the next line by the given statement's expected output. "
   ]
  },
  {
   "cell_type": "markdown",
   "metadata": {},
   "source": [
    "## Namespaces and Scopes\n",
    "Scopes are determined by **namespaces**, which associate identifiers with objects and are implemented \"under the hood\" as dictionaries. All namespaces are independent of one another. So the same identifier may appear in multiple namespaces. There are three primary namespaces - local,global, and built-in.\n",
    "\n",
    "### Local Namespace\n",
    "- Each function and method has a **local namespace** that associates local identiifers (such as parameters and local variables) with objects. The local namespace exists from the moment the function or method is called until it terminates and is accessible *only* to that function or method. \n",
    "\n",
    "### Global Namespace\n",
    "- Each module has a **global anmespace** that associates a module's global identifiers (such as global variables, function names and class names) with objects. Python creates a module's global namespace when it loads the module. Each module's global namespace also has an identifier called *[_name_]* containing the module's name, such as 'math' for the math module or 'random' for the random module. \n",
    "\n",
    "### Built-In Namespace\n",
    "- The **built-in namespace** associates identifiers for Python's built-in functions (such as input and range) and types (such as, int, float, and str) with objects that define those functions and types. Python creates the built-in namespace wehn the interpreter starts executing. \n",
    "\n",
    "### Nested Functions\n",
    "- One namespace we did not cover in the preceding discussion is the **enclosing namespace**. Python allows you to define **nested functions** inside other functions or methods, for example, if a function or method performs the same task several times, you might define a nested function to avoid repeating code in the enclosing function. \n",
    "- Python searches the nested function's local namespace first, then the enclosing function's namespace, then the global namespace and finally the built-in namespace. \n",
    "    -**LEGB (Local, enclosing, global, built-in) rule**\n",
    "\n",
    "#### Self Check\n",
    "1. A function's _*local*_ namespace stores information about identiifers created in the function, such as its parameters and local variables. \n",
    "2. True/False - When a functionattempts to get an attribute's value, Python searches the local namespace,then the global namespace, then the built-in namespace until it finds the attribute; otherwise; a NameError occurs.\n",
    "    - **True**"
   ]
  },
  {
   "cell_type": "markdown",
   "metadata": {},
   "source": [
    "# Chapter 15 - Machine Learning: Classification, REgression and Clustering\n",
    "- [Introduction to Machine Learning](#introduction-to-machine-learning)\n",
    "- [Classification with k Nearest Neighbors](#classification-with-k-nearest-neighbors)\n",
    "- [Classification with k Nearest Neighbors and the Digits Dataset Part 2](#classification-with-k-nearest-neighbors-and-the-digits-dataset-part-2)\n",
    "- [Time Series and Simple Linear Regression](#time-series-and-simple-linear-regression)"
   ]
  },
  {
   "cell_type": "markdown",
   "metadata": {},
   "source": [
    "## Introduction to Machine Learning"
   ]
  },
  {
   "cell_type": "markdown",
   "metadata": {},
   "source": [
    "### Scikit-Learn\n",
    "Scikit-Learn is the popular machine learning library, also called sklearn, conveniently packages the most effective machine-learning algorithms as estimators. \n",
    "-Scikit-learn has tools that automate training and testing your models. \n",
    "### Types of Machine Learning\n",
    "Two types of machine learning - *supervised machine learning*, which works with *labeled data* and *unsupervised machine learning* which works with *unlabeled data*. \n",
    "- Supervised Machine Learning falls into two catagories *classification* and *regression*. You train machine-learning models on datasets that consist of rows and columns. Each row represents a *feature* of that sample. \n",
    "    - Classification algorithms predict the discrete classes to which samples belong.\n",
    "    - Regression models predit a continuous output using SkitLearn's LinearRegression estimator. \n",
    "- Unsupervised Machine Learning is used with clustering algorithms. Using the dimensionality reduction with scikit-learn's TSNE estimator. \n",
    "\n",
    "### Steps in a Typical Data Science Study\n",
    "1. Loading the dataset\n",
    "2. Exploring the data with pandas and visualizations\n",
    "3. Transforming your data - converting non-numeric data to numeric data because scikit-learn requires numeric data\n",
    "4. Splitting the data for training and testing\n",
    "5. Creating the model \n",
    "6. Training and testing the model\n",
    "7. Runing the model and evaluting its accuracy\n",
    "8. Making predictions on live data that the model hasn't seen before. \n",
    "\n",
    "#### Self Check\n",
    "1. Machine learning falls into two main catagories _*supervised*_ machine learning, which works with labeled data and _*unsupervised*_ machine learning, which works with unlabeled data. \n",
    "2. True/False - With machine learning, rather than programming expertise into our applications, we program them to learn from data. \n",
    "    - **True**\n",
    "\n"
   ]
  },
  {
   "cell_type": "markdown",
   "metadata": {},
   "source": [
    "## Classification with k-Nearest Neighbors"
   ]
  },
  {
   "cell_type": "markdown",
   "metadata": {},
   "source": [
    "- **Binary** classification, divides samples into two distinct classes, and **multi** classification divides samples into many distinct classes. \n",
    "- **k-nearest neighbors (k-NN)** is the simplest classification algorithm from Scikit-learn. This algorithm attempts to predict a test sample's class by looking at the *k* training samples that are nearest (in distance) to the test sample. \n",
    "\n",
    "### Hyperparameters and Hyperparameter Tuning\n",
    "- A **model** implements a machine-learning algorithm. In scikit-learn models are called **estimators**. There are two parameters types in machine learning:\n",
    "    - those the estimator calculates as it learns form the data you provide \n",
    "    - those you specify in advance when you create the scikit-learn estimator object that represents the model. \n",
    "- The parameters specified in advance are called **hyperparameters**.\n",
    "- The process of choosing the best value of *k* for the *k-nearest* neighbors algorithm is called **hyperparameter tuning**.\n",
    "\n",
    "#### Self Checks\n",
    "1. True/False - In machine learning a model implements a machine-learning algorithm. In scikit-learn, models are called estimators. \n",
    "    - **True**\n",
    "2. The process of choosing the best value of *k* for the *k-nearest* neighbors algorithm is called **hyperparameter tuning**.\n",
    "\n",
    "### Loading the Data Set\n",
    "The **load_digits** function from the **sklearn.datasets module** returns a scikit-learn **Bunch** object containing the digits data and information *about* the Digits dataset (called **metadata**)"
   ]
  },
  {
   "cell_type": "code",
   "execution_count": null,
   "metadata": {},
   "outputs": [],
   "source": [
    "from sclearn.datasets import load_digits\n",
    "\n",
    "digits = load_digits()"
   ]
  },
  {
   "cell_type": "markdown",
   "metadata": {},
   "source": [
    "- The Digits dataset bundled with scikit-learn is a subset of the **UCI ML hand-written digits dataset**. \n",
    "- A Bunch's **DESCR attribute** contains a description of the dataset. \n",
    "- The Bunch object's **data** and **target attributes** are NumPy arrays\n",
    "- If you are working with a data containing **categorical features** represented as strings such as 'spam' or 'not-spam'. Scikit-learn's **sklearn.preprocessing** module provides capabilities for converting categorical data to numeric data. \n",
    "\n",
    "#### Self Check\n",
    "1. A Bunch's object's _*data*_ and _*target*_ attributes are NumPy arrays containing the dataset's samples and labels, respectively. \n",
    "2. True/False - A scikit-learn Bunch object contains only a dataset's data. \n",
    "    - **False** A scikit-learn Bunch object contains a dataset's data and information about hte dataset (called metadata), available through the dESCR attribute. \n",
    "3. For sample number 22 in the Digits dataset, display the 8-by-8 image data and numeric value of the digit the image represents. "
   ]
  },
  {
   "cell_type": "code",
   "execution_count": null,
   "metadata": {},
   "outputs": [],
   "source": [
    "digits.images[22]\n",
    "digits.target[22]"
   ]
  },
  {
   "cell_type": "markdown",
   "metadata": {},
   "source": [
    "- The process of familiarizing yourself with your data is called _*data exploration*_. \n",
    "- Display the image for sample 22 of the Digits dataset."
   ]
  },
  {
   "cell_type": "code",
   "execution_count": null,
   "metadata": {},
   "outputs": [],
   "source": [
    "import matplotlib.pyplot as plt\n",
    "axes = plt.subplot()\n",
    "image = plt.imshow(digits.images[22], cmap=plt.cm.gray_r)\n",
    "xticks = axes.set_xticks([])\n",
    "yticks = axes.set_yticks([])"
   ]
  },
  {
   "cell_type": "markdown",
   "metadata": {},
   "source": [
    "### Splitting the Data for Training and Testing\n",
    "- First break the data into a **training set** and a **testing set** to prepare to train and test the model. \n",
    "- The function **train_test_split** fromt he **sklearn.model_select** module *shuffles* the data to randomize it, then splits the samples in the data array and the target values int hte target array into training and testing sets. \n",
    "- The shuffling and splitting is done for you by **ShuffleSplit** object from the sklearn.model_selection module. \n",
    "\n",
    "#### Self Check\n",
    "- True/False - You should typically use all of a dataset's data to train a model. \n",
    "    - **False** It's important to set aside a portion of your data for testing, so you can evaluate a model's performance using data that the model has not yet seen. \n",
    "\n",
    "### Creating the Model\n",
    "**KNeighborsClassifier** estimator (module **sklearn.neighbors**) implements the k-nearest neighbors algorithm. "
   ]
  },
  {
   "cell_type": "code",
   "execution_count": null,
   "metadata": {},
   "outputs": [],
   "source": [
    "from sklearn.neighbors import KNeighborsClassifier\n",
    "knn = KNeighborsClassifier()"
   ]
  },
  {
   "cell_type": "markdown",
   "metadata": {},
   "source": [
    "Next we invoke the KNeighborsClassifer object's **fit method** which loads the sample training set (x_train) and target training set (y_train) into the estimator"
   ]
  },
  {
   "cell_type": "code",
   "execution_count": null,
   "metadata": {},
   "outputs": [],
   "source": [
    "knn.fit(x=x_train, y=y_train)"
   ]
  },
  {
   "cell_type": "markdown",
   "metadata": {},
   "source": [
    "#### Self Check\n",
    "1. The KNeighborsClassifier is said to be _*lazy*_ because its work is performed only when you use it to make predictions. \n",
    "2. True/False - Each scikit learn estimator's fit method simply loads a dataset.\n",
    "    - **False** For most scikit-learn estimators, the fit method loads the data into the estimator that uses the data to perform complex calculations behind the scenes that learn from the data and train the model. \n",
    "\n",
    "### Predicting Digit Classes\n",
    "- Calling the estimator's **predict method** as an argument returns an array containing the predicted class of each test image. "
   ]
  },
  {
   "cell_type": "markdown",
   "metadata": {},
   "source": [
    "## Classification with k-Nearest Neighbors and the Digits Dataset, Part 2"
   ]
  },
  {
   "cell_type": "markdown",
   "metadata": {},
   "source": [
    "### Estimator Method Score\n",
    "- Each estimator has a **score** method that returns an indiciation of how well the estimator performs for the test data you pass as arguments.\n",
    "### Confusion Maxtrix\n",
    "- Another way to check a classifications estimator accuracy is via a **confusion matrix** which shows the correct and incorrect predicted values for a given class. \n",
    "    - Simply call the function **confusion_matrix** from the **sklearn.metrics module**\n",
    "    - [confusion = confusion_matrix(y_true= expected, y_pred=predicted)]\n",
    "### Classification Report\n",
    "- The sklearn.metrics module also provides function **classification_report**, which produces a table of **classification metrics** based on the expected and predicted values. \n",
    "\n",
    "- [from sklearn.metrics import classification_report]\n",
    "- [names = [str(digit) for digit in digits.target_names]]\n",
    "    - In the **precision** is the total number of correct predictions for given digit divided by the total number of predictions for that digit. \n",
    "    - **Recall** is the total number of correct predictions for a given digit divided by the total number of samples that should have been predicted as that digit. \n",
    "    - **f1-score** - This is the average of the precision and the recall\n",
    "    - **support** - The number of samples with a given expected value. \n",
    "\n",
    "### Visualizing the Confusion Matrix\n",
    "- A **heat map** displays values as colors, often with values of higher magnitude displayed as more intense colors. Seaborn's graphing functions work with two-dimensional data. \n",
    "- Seaborn's function **heatmap** creates a heat map form the specified DataFrame. \n",
    "\n",
    "#### Self Check\n",
    "1. A Seaborn _*heat map*_ displays values as colors, often with values of higher magnitude displayed as more intense colors. \n",
    "2. True/False - In a classification report, the precision specifies the total number of correct predictions for a class divided by the total number of samples for that class. \n",
    "    - **True**\n",
    "3. Explain row 3 of the confusion maxtrix presented:\n",
    "    - [0,0,0,42,0,1,0,1,0,0]\n",
    "    - The number 42 in column index 3 indicates that 42 3s were correctly predicted as 3s. The number 1 at column indices 5 and 7 indicates that one 3 was incorrectly classified as a 5 and one was incorrectly classified as a 7. \n",
    "\n",
    "### K-Fold Cross-Validation\n",
    "**K-fold cross-validation** enables you to use all of your data for both training and testing, to get a better sense of how well your model will make predictions for new data by repeatedly training and testing the model with different portions of the dataset. \n",
    "- K-fold cross validation splits the dataset into k equal-size **folds**. \n",
    "- Scikit-learn provides the **KFold** class and the **cross_val_score function** to help you perform the training and testing cycles. \n",
    "\n",
    "#### Self Check\n",
    "1. True/False - Randomizing the data by shuffling it before splitting it into folds is particularly important if the samples might be ordered or grouped. \n",
    "    - **True**\n",
    "2. True/False - When you call cross_val_score to perform k-fold cross-validation, the function returns the best score produced while testing the model with each fold. \n",
    "    - **False** The function returns an array containing the scores for each fold. The mean of those scores is the estimator's overall score. \n",
    "3. True/False - You should choose the best estimator before performing your machine learning study. \n",
    "    - **False** It's difficult to know in advance which machine learning model(s) will perform best for a given dataset, especially when they hide the details of how they operate from their users. For this reason, you should run multiple models to determine which is the best for your study. \n",
    "4. True/False - When you create an estimator object, the default hyperparameter values that scikit-learn uses the generally the best ones for every machine learning study. \n",
    "    - **False** The default hyperparameter values make it easy for you to test estimators to choose hyperparameter values that produce the best possible predicitions. "
   ]
  },
  {
   "cell_type": "markdown",
   "metadata": {},
   "source": [
    "## Time Series and Simple Linear Regression"
   ]
  },
  {
   "cell_type": "markdown",
   "metadata": {},
   "source": [
    "Using the **LinearRegression** estimator from **sklearn.linear_model**. By default, this estimator uses all the numeric features in a dataset, performing a **multiple linear regression**. "
   ]
  },
  {
   "cell_type": "code",
   "execution_count": 54,
   "metadata": {},
   "outputs": [
    {
     "data": {
      "text/html": [
       "<div>\n",
       "<style scoped>\n",
       "    .dataframe tbody tr th:only-of-type {\n",
       "        vertical-align: middle;\n",
       "    }\n",
       "\n",
       "    .dataframe tbody tr th {\n",
       "        vertical-align: top;\n",
       "    }\n",
       "\n",
       "    .dataframe thead th {\n",
       "        text-align: right;\n",
       "    }\n",
       "</style>\n",
       "<table border=\"1\" class=\"dataframe\">\n",
       "  <thead>\n",
       "    <tr style=\"text-align: right;\">\n",
       "      <th></th>\n",
       "      <th>Date</th>\n",
       "      <th>Temperature</th>\n",
       "      <th>Anomaly</th>\n",
       "    </tr>\n",
       "  </thead>\n",
       "  <tbody>\n",
       "    <tr>\n",
       "      <th>0</th>\n",
       "      <td>1895</td>\n",
       "      <td>34.2</td>\n",
       "      <td>-3.2</td>\n",
       "    </tr>\n",
       "    <tr>\n",
       "      <th>1</th>\n",
       "      <td>1896</td>\n",
       "      <td>34.7</td>\n",
       "      <td>-2.7</td>\n",
       "    </tr>\n",
       "    <tr>\n",
       "      <th>2</th>\n",
       "      <td>1897</td>\n",
       "      <td>35.5</td>\n",
       "      <td>-1.9</td>\n",
       "    </tr>\n",
       "  </tbody>\n",
       "</table>\n",
       "</div>"
      ],
      "text/plain": [
       "   Date  Temperature  Anomaly\n",
       "0  1895         34.2     -3.2\n",
       "1  1896         34.7     -2.7\n",
       "2  1897         35.5     -1.9"
      ]
     },
     "execution_count": 54,
     "metadata": {},
     "output_type": "execute_result"
    }
   ],
   "source": [
    "import pandas as pd\n",
    "import sklearn\n",
    "\n",
    "nyc = pd.read_csv(r'/Users/lindseysullivan/Desktop/44-608/608-Mod7/Examples/ave_hi_nyc_jan_1895-2018.csv')\n",
    "\n",
    "nyc.columns = ['Date', 'Temperature', 'Anomaly']\n",
    "\n",
    "nyc.Date = nyc.Date.floordiv(100)\n",
    "\n",
    "nyc.head(3)"
   ]
  },
  {
   "cell_type": "code",
   "execution_count": 55,
   "metadata": {},
   "outputs": [
    {
     "data": {
      "text/plain": [
       "(93, 1)"
      ]
     },
     "execution_count": 55,
     "metadata": {},
     "output_type": "execute_result"
    }
   ],
   "source": [
    "from sklearn.model_selection import train_test_split\n",
    "\n",
    "X_train, X_test, y_train, y_test = train_test_split(nyc.Date.values.reshape(-1,1), nyc.Temperature.values,random_state=11) \n",
    "\n",
    "#transforming the data from a one dimensional array to a two dimensional call the reshape method\n",
    "X_train.shape"
   ]
  },
  {
   "cell_type": "code",
   "execution_count": 56,
   "metadata": {},
   "outputs": [
    {
     "data": {
      "text/plain": [
       "(31, 1)"
      ]
     },
     "execution_count": 56,
     "metadata": {},
     "output_type": "execute_result"
    }
   ],
   "source": [
    "X_test.shape"
   ]
  },
  {
   "cell_type": "code",
   "execution_count": 57,
   "metadata": {},
   "outputs": [
    {
     "data": {
      "text/html": [
       "<style>#sk-container-id-4 {color: black;background-color: white;}#sk-container-id-4 pre{padding: 0;}#sk-container-id-4 div.sk-toggleable {background-color: white;}#sk-container-id-4 label.sk-toggleable__label {cursor: pointer;display: block;width: 100%;margin-bottom: 0;padding: 0.3em;box-sizing: border-box;text-align: center;}#sk-container-id-4 label.sk-toggleable__label-arrow:before {content: \"▸\";float: left;margin-right: 0.25em;color: #696969;}#sk-container-id-4 label.sk-toggleable__label-arrow:hover:before {color: black;}#sk-container-id-4 div.sk-estimator:hover label.sk-toggleable__label-arrow:before {color: black;}#sk-container-id-4 div.sk-toggleable__content {max-height: 0;max-width: 0;overflow: hidden;text-align: left;background-color: #f0f8ff;}#sk-container-id-4 div.sk-toggleable__content pre {margin: 0.2em;color: black;border-radius: 0.25em;background-color: #f0f8ff;}#sk-container-id-4 input.sk-toggleable__control:checked~div.sk-toggleable__content {max-height: 200px;max-width: 100%;overflow: auto;}#sk-container-id-4 input.sk-toggleable__control:checked~label.sk-toggleable__label-arrow:before {content: \"▾\";}#sk-container-id-4 div.sk-estimator input.sk-toggleable__control:checked~label.sk-toggleable__label {background-color: #d4ebff;}#sk-container-id-4 div.sk-label input.sk-toggleable__control:checked~label.sk-toggleable__label {background-color: #d4ebff;}#sk-container-id-4 input.sk-hidden--visually {border: 0;clip: rect(1px 1px 1px 1px);clip: rect(1px, 1px, 1px, 1px);height: 1px;margin: -1px;overflow: hidden;padding: 0;position: absolute;width: 1px;}#sk-container-id-4 div.sk-estimator {font-family: monospace;background-color: #f0f8ff;border: 1px dotted black;border-radius: 0.25em;box-sizing: border-box;margin-bottom: 0.5em;}#sk-container-id-4 div.sk-estimator:hover {background-color: #d4ebff;}#sk-container-id-4 div.sk-parallel-item::after {content: \"\";width: 100%;border-bottom: 1px solid gray;flex-grow: 1;}#sk-container-id-4 div.sk-label:hover label.sk-toggleable__label {background-color: #d4ebff;}#sk-container-id-4 div.sk-serial::before {content: \"\";position: absolute;border-left: 1px solid gray;box-sizing: border-box;top: 0;bottom: 0;left: 50%;z-index: 0;}#sk-container-id-4 div.sk-serial {display: flex;flex-direction: column;align-items: center;background-color: white;padding-right: 0.2em;padding-left: 0.2em;position: relative;}#sk-container-id-4 div.sk-item {position: relative;z-index: 1;}#sk-container-id-4 div.sk-parallel {display: flex;align-items: stretch;justify-content: center;background-color: white;position: relative;}#sk-container-id-4 div.sk-item::before, #sk-container-id-4 div.sk-parallel-item::before {content: \"\";position: absolute;border-left: 1px solid gray;box-sizing: border-box;top: 0;bottom: 0;left: 50%;z-index: -1;}#sk-container-id-4 div.sk-parallel-item {display: flex;flex-direction: column;z-index: 1;position: relative;background-color: white;}#sk-container-id-4 div.sk-parallel-item:first-child::after {align-self: flex-end;width: 50%;}#sk-container-id-4 div.sk-parallel-item:last-child::after {align-self: flex-start;width: 50%;}#sk-container-id-4 div.sk-parallel-item:only-child::after {width: 0;}#sk-container-id-4 div.sk-dashed-wrapped {border: 1px dashed gray;margin: 0 0.4em 0.5em 0.4em;box-sizing: border-box;padding-bottom: 0.4em;background-color: white;}#sk-container-id-4 div.sk-label label {font-family: monospace;font-weight: bold;display: inline-block;line-height: 1.2em;}#sk-container-id-4 div.sk-label-container {text-align: center;}#sk-container-id-4 div.sk-container {/* jupyter's `normalize.less` sets `[hidden] { display: none; }` but bootstrap.min.css set `[hidden] { display: none !important; }` so we also need the `!important` here to be able to override the default hidden behavior on the sphinx rendered scikit-learn.org. See: https://github.com/scikit-learn/scikit-learn/issues/21755 */display: inline-block !important;position: relative;}#sk-container-id-4 div.sk-text-repr-fallback {display: none;}</style><div id=\"sk-container-id-4\" class=\"sk-top-container\"><div class=\"sk-text-repr-fallback\"><pre>LinearRegression()</pre><b>In a Jupyter environment, please rerun this cell to show the HTML representation or trust the notebook. <br />On GitHub, the HTML representation is unable to render, please try loading this page with nbviewer.org.</b></div><div class=\"sk-container\" hidden><div class=\"sk-item\"><div class=\"sk-estimator sk-toggleable\"><input class=\"sk-toggleable__control sk-hidden--visually\" id=\"sk-estimator-id-4\" type=\"checkbox\" checked><label for=\"sk-estimator-id-4\" class=\"sk-toggleable__label sk-toggleable__label-arrow\">LinearRegression</label><div class=\"sk-toggleable__content\"><pre>LinearRegression()</pre></div></div></div></div></div>"
      ],
      "text/plain": [
       "LinearRegression()"
      ]
     },
     "execution_count": 57,
     "metadata": {},
     "output_type": "execute_result"
    }
   ],
   "source": [
    "#training the model since scikit-learn does not have a separate class for simple linear regression\n",
    "from sklearn.linear_model import LinearRegression\n",
    "\n",
    "linear_regression = LinearRegression()\n",
    "\n",
    "linear_regression.fit(X=X_train,y=y_train)"
   ]
  },
  {
   "cell_type": "code",
   "execution_count": 58,
   "metadata": {},
   "outputs": [
    {
     "data": {
      "text/plain": [
       "array([0.01939167])"
      ]
     },
     "execution_count": 58,
     "metadata": {},
     "output_type": "execute_result"
    }
   ],
   "source": [
    "#To find the best fitting regression line for the data, the LinearREgression estimator iteratively adjusts the slope and intercepts values to minimize the sum of the squares of the data points' distances.\n",
    "\n",
    "linear_regression.coef_ #stores the slope"
   ]
  },
  {
   "cell_type": "code",
   "execution_count": 59,
   "metadata": {},
   "outputs": [
    {
     "data": {
      "text/plain": [
       "-0.30779820252658396"
      ]
     },
     "execution_count": 59,
     "metadata": {},
     "output_type": "execute_result"
    }
   ],
   "source": [
    "linear_regression.intercept_ #stores the intercept"
   ]
  },
  {
   "cell_type": "code",
   "execution_count": 60,
   "metadata": {},
   "outputs": [
    {
     "name": "stdout",
     "output_type": "stream",
     "text": [
      "predicted: 37.86, expected: 31.70\n",
      "predicted: 38.69, expected: 34.80\n",
      "predicted: 37.00, expected: 39.40\n",
      "predicted: 37.25, expected: 45.70\n",
      "predicted: 38.05, expected: 32.30\n",
      "predicted: 37.64, expected: 33.80\n",
      "predicted: 36.94, expected: 39.70\n"
     ]
    }
   ],
   "source": [
    "#testing the model\n",
    "\n",
    "predicted = linear_regression.predict(X_test)\n",
    "expected = y_test\n",
    "\n",
    "for p, e in zip(predicted[::5], expected[::5]):\n",
    "    print(f'predicted: {p:.2f}, expected: {e:.2f}')"
   ]
  },
  {
   "cell_type": "markdown",
   "metadata": {},
   "source": [
    "To visualize the data - you can create a scatterplot of the dataset using Seaborn's scatterplot function and Matplotlib's plot function. "
   ]
  },
  {
   "cell_type": "code",
   "execution_count": 61,
   "metadata": {},
   "outputs": [],
   "source": [
    "predict = (lambda x: linear_regression.coef_ * x + linear_regression.intercept_)"
   ]
  },
  {
   "cell_type": "code",
   "execution_count": 62,
   "metadata": {},
   "outputs": [],
   "source": [
    "import seaborn as sns"
   ]
  },
  {
   "cell_type": "code",
   "execution_count": 63,
   "metadata": {},
   "outputs": [
    {
     "data": {
      "image/png": "[encoded data removed]",
      "text/plain": [
       "<Figure size 432x288 with 1 Axes>"
      ]
     },
     "metadata": {
      "needs_background": "light"
     },
     "output_type": "display_data"
    }
   ],
   "source": [
    "axes = sns.scatterplot(data=nyc, x='Date', y='Temperature', hue= 'Temperature', palette='winter')\n"
   ]
  },
  {
   "cell_type": "markdown",
   "metadata": {},
   "source": [
    "- Data specifies the DataFrame\n",
    "- x and y specify the names of nyc's columns that are the source of the data\n",
    "- hue - specifies which column's data shoudl be used to determine the dot colors\n",
    "- palette - specifies a Matplotlib color map\n",
    "- legend=False - specifies that scatterplot should not show a ledgend for the graph"
   ]
  },
  {
   "cell_type": "code",
   "execution_count": 64,
   "metadata": {},
   "outputs": [
    {
     "data": {
      "text/plain": [
       "(10.0, 70.0)"
      ]
     },
     "execution_count": 64,
     "metadata": {},
     "output_type": "execute_result"
    }
   ],
   "source": [
    "axes.set_ylim(10,70)"
   ]
  },
  {
   "cell_type": "code",
   "execution_count": 65,
   "metadata": {},
   "outputs": [],
   "source": [
    "import numpy as np\n",
    "x = np.array([min(nyc.Date.values), max(nyc.Date.values)])"
   ]
  },
  {
   "cell_type": "code",
   "execution_count": 66,
   "metadata": {},
   "outputs": [],
   "source": [
    "y = predict(x)"
   ]
  },
  {
   "cell_type": "code",
   "execution_count": 67,
   "metadata": {},
   "outputs": [
    {
     "data": {
      "image/png": "[encoded data removed]",
      "text/plain": [
       "<Figure size 432x288 with 1 Axes>"
      ]
     },
     "metadata": {
      "needs_background": "light"
     },
     "output_type": "display_data"
    }
   ],
   "source": [
    "##use Matplotlib plot function to plot a line based on the x and y arrays\n",
    "\n",
    "import matplotlib.pyplot as plt\n",
    "\n",
    "line = plt.plot(x,y)"
   ]
  },
  {
   "cell_type": "markdown",
   "metadata": {},
   "source": [
    "### Overfitting/Underfitting\n",
    "- **Underfitting** occurs when a model is too simple to make predictions, based on its training data. \n",
    "- **Overfitting** occurs when your model is too complex. \n",
    "\n",
    "#### Self Check\n",
    "1. A LinearRegression object's _*coeff_*_ and _*intercept_*_ attributes can be used as m and b, respectively, int he equation y = mx + b to make predictions. \n",
    "2. True/False - By default, the LinearRegression estimator performs simple linear regression. \n",
    "    - **False** By default the LinearRegression estimator uses all the numeric features in a dataset, performing a multiple linear regression. \n",
    "3. Use the predict lambda to estimate what the average January high tempeature was in 1889 and to predict what will be in 2020."
   ]
  },
  {
   "cell_type": "code",
   "execution_count": 68,
   "metadata": {},
   "outputs": [
    {
     "data": {
      "text/plain": [
       "array([36.32307265])"
      ]
     },
     "execution_count": 68,
     "metadata": {},
     "output_type": "execute_result"
    }
   ],
   "source": [
    "predict(1889)"
   ]
  },
  {
   "cell_type": "code",
   "execution_count": 69,
   "metadata": {},
   "outputs": [
    {
     "data": {
      "text/plain": [
       "array([40.41471572])"
      ]
     },
     "execution_count": 69,
     "metadata": {},
     "output_type": "execute_result"
    }
   ],
   "source": [
    "predict(2100)"
   ]
  }
 ],
 "metadata": {
  "kernelspec": {
   "display_name": "Python 3.9.12 ('base')",
   "language": "python",
   "name": "python3"
  },
  "language_info": {
   "codemirror_mode": {
    "name": "ipython",
    "version": 3
   },
   "file_extension": ".py",
   "mimetype": "text/x-python",
   "name": "python",
   "nbconvert_exporter": "python",
   "pygments_lexer": "ipython3",
   "version": "3.9.12"
  },
  "orig_nbformat": 4,
  "vscode": {
   "interpreter": {
    "hash": "f040464a7bacfd18d64ed368a243c21abbbcc489797c3972d198c610af4c478c"
   }
  }
 },
 "nbformat": 4,
 "nbformat_minor": 2
}
